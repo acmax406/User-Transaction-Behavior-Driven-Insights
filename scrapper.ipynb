{
 "cells": [
  {
   "cell_type": "code",
   "execution_count": 12,
   "id": "9b476161",
   "metadata": {},
   "outputs": [],
   "source": [
    "from selenium import webdriver\n",
    "from selenium.webdriver.common.by import By\n",
    "from selenium.webdriver.support.ui import WebDriverWait\n",
    "from selenium.webdriver.support import expected_conditions as EC \n",
    "from selenium.common.exceptions import TimeoutException\n",
    "import pandas as pd"
   ]
  },
  {
   "cell_type": "code",
   "execution_count": 13,
   "id": "78bcca1a",
   "metadata": {},
   "outputs": [],
   "source": [
    "driver= webdriver.Edge()\n"
   ]
  },
  {
   "cell_type": "code",
   "execution_count": 24,
   "id": "55d42f5b",
   "metadata": {},
   "outputs": [],
   "source": [
    "driver.get(\"https://docs.google.com/spreadsheets/d/17astDkGsYC-jQQmDux53Wx9ikqDzqFFN59iqn01l2PE/htmlview#\")"
   ]
  },
  {
   "cell_type": "code",
   "execution_count": 25,
   "id": "23742909",
   "metadata": {},
   "outputs": [],
   "source": [
    "table = driver.find_element(By.CLASS_NAME, \"waffle\")"
   ]
  },
  {
   "cell_type": "code",
   "execution_count": 26,
   "id": "64b94bcd",
   "metadata": {},
   "outputs": [],
   "source": [
    "x= table.text"
   ]
  },
  {
   "cell_type": "code",
   "execution_count": 39,
   "id": "56cbe83f",
   "metadata": {},
   "outputs": [],
   "source": [
    "import csv\n",
    "# Initialize a CSV writer\n",
    "csv_file = open('table_data.csv', 'w', newline='', encoding='utf-8')\n",
    "csv_writer = csv.writer(csv_file)\n",
    "\n",
    "# Extract table rows and cells\n",
    "rows = table.find_elements(By.TAG_NAME,'tr')\n",
    "for row in rows:\n",
    "    cells = row.find_elements(By.TAG_NAME,'td')\n",
    "    row_data = [cell.text for cell in cells]\n",
    "    csv_writer.writerow(row_data)"
   ]
  },
  {
   "cell_type": "code",
   "execution_count": 40,
   "id": "6e7e10e5",
   "metadata": {},
   "outputs": [],
   "source": [
    "csv_file.close()"
   ]
  },
  {
   "cell_type": "code",
   "execution_count": null,
   "id": "40cf11c3",
   "metadata": {},
   "outputs": [],
   "source": []
  }
 ],
 "metadata": {
  "kernelspec": {
   "display_name": "Python 3 (ipykernel)",
   "language": "python",
   "name": "python3"
  },
  "language_info": {
   "codemirror_mode": {
    "name": "ipython",
    "version": 3
   },
   "file_extension": ".py",
   "mimetype": "text/x-python",
   "name": "python",
   "nbconvert_exporter": "python",
   "pygments_lexer": "ipython3",
   "version": "3.9.12"
  }
 },
 "nbformat": 4,
 "nbformat_minor": 5
}
